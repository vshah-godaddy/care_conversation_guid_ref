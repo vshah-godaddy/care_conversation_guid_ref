{
 "cells": [
  {
   "cell_type": "code",
   "execution_count": 1,
   "id": "8524a63a",
   "metadata": {},
   "outputs": [
    {
     "name": "stderr",
     "output_type": "stream",
     "text": [
      "E\n",
      "======================================================================\n",
      "ERROR: /Users/vshah/Library/Jupyter/runtime/kernel-87dc8301-3d71-49dd-8802-8f26bba25760 (unittest.loader._FailedTest)\n",
      "----------------------------------------------------------------------\n",
      "AttributeError: module '__main__' has no attribute '/Users/vshah/Library/Jupyter/runtime/kernel-87dc8301-3d71-49dd-8802-8f26bba25760'\n",
      "\n",
      "----------------------------------------------------------------------\n",
      "Ran 1 test in 0.001s\n",
      "\n",
      "FAILED (errors=1)\n"
     ]
    },
    {
     "ename": "SystemExit",
     "evalue": "True",
     "output_type": "error",
     "traceback": [
      "An exception has occurred, use %tb to see the full traceback.\n",
      "\u001b[0;31mSystemExit\u001b[0m\u001b[0;31m:\u001b[0m True\n"
     ]
    },
    {
     "name": "stderr",
     "output_type": "stream",
     "text": [
      "/Users/vshah/opt/anaconda3/lib/python3.9/site-packages/IPython/core/interactiveshell.py:3377: UserWarning: To exit: use 'exit', 'quit', or Ctrl-D.\n",
      "  warn(\"To exit: use 'exit', 'quit', or Ctrl-D.\", stacklevel=1)\n"
     ]
    }
   ],
   "source": [
    "from datetime import datetime\n",
    "\n",
    "\n",
    "from pyspark.sql import SparkSession\n",
    "from pyspark.sql.types import StructType, StructField, StringType, BooleanType, ArrayType, NumericType\n",
    "from pyspark.sql import functions as F\n",
    "import unittest\n",
    "from etl.conversation_guid_ref_etl import ConversationGuidRef\n",
    "\n",
    "\n",
    "\n",
    "class SparkETLTestCase(unittest.TestCase):\n",
    "\n",
    "    @classmethod\n",
    "    def setUpClass(cls):\n",
    "        cls.spark = SparkSession \\\n",
    "            .builder \\\n",
    "            .appName(\"conversation_guid_ref_Logic_unit_test\") \\\n",
    "            .getOrCreate()\n",
    "\n",
    "    @classmethod\n",
    "    def tearDownClass(cls):\n",
    "        cls.spark.stop()\n",
    "\n",
    "    def test_transform_conversation_web_traffic(self):\n",
    "        input_schema_msg_cus= StructType([\n",
    "            StructField('conversation_id', StringType(), True),\n",
    "            StructField('conversation_start_utc_ts', StringType(), True),\n",
    "            StructField('conversation_end_utc_ts', StringType(), True),\n",
    "            StructField('conversation_end_utc_date', StringType(), True),\n",
    "            StructField('visit_guids', ArrayType() , True),\n",
    "        ])\n",
    "\n",
    "        input_msg_cus = [\n",
    "            ('116f7d45-f027-41f4-aaa7-4652122d7c1e', '2019-10-09 20:28:56.558', '2019-10-09 20:29:49.716', ['2b6315d4-1254-5b15-b6f7-1f6570893854',' 31a8dd63-92ae-4922-8d0a-70a063e95142']),\n",
    "            ('b18b621b-880a-487a-ada2-27e98e7d91b5', '2019-10-09 20:28:56.558', '2019-10-09 20:29:49.716', ['3762e72e-218e-5076-aed0-bb95558686fd']),\n",
    "            ('0457bec0-2d97-4e50-85d8-490f16c3659d', '2019-10-09 20:28:56.558', '2019-10-09 20:29:49.716', ['21117d4f-3f13-5429-9d98-dcce83a889a7']),\n",
    "            ('3507506b-78f5-4179-b603-1740c5d24b2e', '2019-10-09 20:28:56.558', '2019-10-09 20:29:49.716', None),\n",
    "            ('hjsghsjkdd28378291', '2019-10-09 20:28:56.558', '2019-10-09 20:29:49.716', None),\n",
    "        ]\n",
    "\n",
    "        input_schema_msg = StructType([\n",
    "            StructField('conversation_id', StringType(), True),\n",
    "            StructField('account_id', NumericType(), True),\n",
    "            StructField('visitor_app_id', StringType(), True),\n",
    "            StructField('conversation_source', StringType(), True),\n",
    "            StructField('visitor_device_type', StringType(), True),\n",
    "        ])\n",
    "\n",
    "        input_msg = [\n",
    "            ('116f7d45-f027-41f4-aaa7-4652122d7c1e', 30187337, 'twilio', 'SMS', None),\n",
    "            ('b18b621b-880a-487a-ada2-27e98e7d91b5', 30187337, 'twilio', 'SMS', None),\n",
    "            ('3507506b-78f5-4179-b603-1740c5d24b2e', 30187337, 'twilio', 'SMS', 'Desktop'),\n",
    "            ('0457bec0-2d97-4e50-85d8-490f16c3659d', 30187337, 'twilio', 'SMS', 'Desktop'),\n",
    "            ('ASVSJJS', 128732, 'twilio', 'SMS', 'Desktop')\n",
    "        ]\n",
    "\n",
    "        msg_cus_df = self.spark.createDataFrame(data=input_msg_cus, schema=input_schema_msg_cus)\n",
    "        msg_df = self.spark.createDataFrame(data=input_msg, schema=input_schema_msg)\n",
    "        \n",
    "        expected_schema = StructType([\n",
    "            StructField('parent_contact_id', StringType(), True),\n",
    "            StructField('conversation_start_utc_ts', StringType(), True),\n",
    "            StructField('conversation_end_utc_ts', StringType(), True),\n",
    "            StructField('conversation_end_utc_date', StringType(), True),\n",
    "            StructField('visit_guids', ArrayType(), True),\n",
    "            StructField('app_id', NumericType(), True),\n",
    "            StructField('visitor_app_id', StringType(), True),\n",
    "            StructField('visitor_device_type', StringType(), True),\n",
    "            StructField('conversation_source', StringType(), True),\n",
    "        ])\n",
    "\n",
    "        expected_data = [\n",
    "            ('30187337-116f7d45-f027-41f4-aaa7-4652122d7c1e', '2019-10-09 20:28:56.558', '2019-10-09 20:29:49.716', ['2b6315d4-1254-5b15-b6f7-1f6570893854',' 31a8dd63-92ae-4922-8d0a-70a063e95142'], 'twilio', 'SMS', None),\n",
    "            ('30187337-b18b621b-880a-487a-ada2-27e98e7d91b5', '2019-10-09 20:28:56.558', '2019-10-09 20:29:49.716', ['3762e72e-218e-5076-aed0-bb95558686fd'], 'twilio', 'SMS', None),\n",
    "            ('30187337-0457bec0-2d97-4e50-85d8-490f16c3659d', '2019-10-09 20:28:56.558', '2019-10-09 20:29:49.716', ['21117d4f-3f13-5429-9d98-dcce83a889a7'], 'twilio', 'SMS', None),\n",
    "            ('30187337-3507506b-78f5-4179-b603-1740c5d24b2e',  '2019-10-09 20:28:56.558', '2019-10-09 20:29:49.716', None, 'twilio', 'SMS', None)\n",
    "        ]\n",
    "\n",
    "        expected_df = self.spark.createDataFrame(data=expected_data, schema=expected_schema)\n",
    "\n",
    "        transformed_df = ConversationGuidRef.transfrom_conversation_web_traffic(msg_cus_df, msg_df)\n",
    "        \n",
    "        transformed_df = transformed_df.select(\n",
    "            transformed_df.parent_contact_id,\n",
    "            transformed_df.conversation_start_utc_ts,\n",
    "            transformed_df.conversation_end_utc_ts,\n",
    "            transformed_df.conversation_end_utc_date,\n",
    "            transformed_df.visit_guids,\n",
    "            transformed_df.app_id,\n",
    "            transformed_df.visitor_device_type,\n",
    "            transformed_df.conversation_source\n",
    "        )\n",
    "\n",
    "        transformed_df.show()\n",
    "        expected_df.show()\n",
    "\n",
    "        # Compare schema of transformed_df and expected_df\n",
    "        field_list = lambda fields: (fields.name, fields.dataType, fields.nullable)\n",
    "        fields1 = [*map(field_list, transformed_df.schema.fields)]\n",
    "        fields2 = [*map(field_list, expected_df.schema.fields)]\n",
    "        res = set(fields1) == set(fields2)\n",
    "        # print(res)\n",
    "        # assert\n",
    "        self.assertTrue(res)\n",
    "        # Compare data in transformed_df and expected_df\n",
    "        self.assertEqual(sorted(expected_df.collect()), sorted(transformed_df.collect()))\n",
    "\n",
    "    def test_second_stuff(self):\n",
    "        print('second stuffs')\n",
    "        self.assertTrue(1)\n",
    "\n",
    "\n",
    "if __name__ == '__main__':\n",
    "    unittest.main()"
   ]
  },
  {
   "cell_type": "code",
   "execution_count": 2,
   "id": "cc662826",
   "metadata": {},
   "outputs": [
    {
     "ename": "SyntaxError",
     "evalue": "invalid syntax (118900820.py, line 1)",
     "output_type": "error",
     "traceback": [
      "\u001b[0;36m  Input \u001b[0;32mIn [2]\u001b[0;36m\u001b[0m\n\u001b[0;31m    python -m unittest -v\u001b[0m\n\u001b[0m              ^\u001b[0m\n\u001b[0;31mSyntaxError\u001b[0m\u001b[0;31m:\u001b[0m invalid syntax\n"
     ]
    }
   ],
   "source": [
    "python -m unittest -v"
   ]
  }
 ],
 "metadata": {
  "kernelspec": {
   "display_name": "Python 3 (ipykernel)",
   "language": "python",
   "name": "python3"
  },
  "language_info": {
   "codemirror_mode": {
    "name": "ipython",
    "version": 3
   },
   "file_extension": ".py",
   "mimetype": "text/x-python",
   "name": "python",
   "nbconvert_exporter": "python",
   "pygments_lexer": "ipython3",
   "version": "3.9.12"
  }
 },
 "nbformat": 4,
 "nbformat_minor": 5
}
